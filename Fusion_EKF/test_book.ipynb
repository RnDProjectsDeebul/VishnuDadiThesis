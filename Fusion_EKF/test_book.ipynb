{
 "cells": [
  {
   "cell_type": "code",
   "execution_count": 5,
   "metadata": {},
   "outputs": [],
   "source": [
    "import filterpy\n",
    "from filterpy.kalman import ExtendedKalmanFilter\n",
    "import pandas as pd\n",
    "import gmplot\n",
    "import folium"
   ]
  },
  {
   "cell_type": "code",
   "execution_count": 21,
   "metadata": {},
   "outputs": [],
   "source": [
    "# # Load IMU data\n",
    "# imu_data = pd.read_csv('/home/dadi_vardhan/Downloads/escarda/5_row_aruco/capture_20230509_122911/imu.csv')\n",
    "\n",
    "# Load GPS data\n",
    "gps_data_1 = pd.read_csv('/home/dadi_vardhan/Downloads/escarda/5_row_aruco/capture_20230509_123125/location.csv')\n",
    "gps_data_2 = pd.read_csv('/home/dadi_vardhan/Downloads/escarda/5_row_aruco/capture_20230509_120504/location.csv')\n",
    "gps_data_3 = pd.read_csv('/home/dadi_vardhan/Downloads/escarda/5_row_aruco/capture_20230509_123316/location.csv')\n",
    "gps_data_4 = pd.read_csv('/home/dadi_vardhan/Downloads/escarda/5_row_aruco/capture_20230509_122606/location.csv')\n",
    "gps_data_5 = pd.read_csv('/home/dadi_vardhan/Downloads/escarda/5_row_aruco/capture_20230509_122911/location.csv')\n",
    "\n",
    "lats = gps_data_1[' Latitude'].values.tolist() + gps_data_2[' Latitude'].values.tolist() + gps_data_3[' Latitude'].values.tolist() + gps_data_4[' Latitude'].values.tolist() + gps_data_5[' Latitude'].values.tolist()\n",
    "lons = gps_data_1[' Longitude'].values.tolist()  + gps_data_2[' Longitude'].values.tolist() + gps_data_3[' Longitude'].values.tolist() + gps_data_4[' Longitude'].values.tolist() + gps_data_5[' Longitude'].values.tolist()\n",
    "\n",
    "gps_coordinates = list(zip(lats, lons))\n",
    "\n",
    "#data = pd.read_csv('/home/dadi_vardhan/Downloads/escarda/5_row_aruco/capture_20230509_122911/imu.csv')\n"
   ]
  },
  {
   "cell_type": "code",
   "execution_count": 52,
   "metadata": {},
   "outputs": [],
   "source": [
    "# code for merging imu and gps data using interpolation w.r.t timestamp\n",
    "# imu_data.index = imu_data.index.astype(int)\n",
    "# gps_data.index = gps_data.index.astype(int)\n",
    "\n",
    "\n",
    "# # Interpolate GPS data to match IMU data frequency\n",
    "# gps_data = gps_data.reindex(imu_data.index).interpolate()\n",
    "\n",
    "# #Merge both dataframes\n",
    "# merged_data = pd.concat([imu_data, gps_data], axis=1)\n",
    "\n",
    "# # Reset index\n",
    "# merged_data.reset_index(inplace=True)\n",
    "# merged_data.rename(columns={'index': 'timestamp_ns'}, inplace=True)"
   ]
  },
  {
   "cell_type": "code",
   "execution_count": 24,
   "metadata": {},
   "outputs": [],
   "source": [
    "def plot_gps_coordinates(gps_coordinates, output_file):\n",
    "    # Create a folium map centered at the first GPS coordinate\n",
    "    gmap = folium.Map(location=gps_coordinates[0], zoom_start=50, tiles='https://mt1.google.com/vt/lyrs=s&x={x}&y={y}&z={z}', attr='Google Satellite')\n",
    "\n",
    "    # Add a polyline for the position trajectory\n",
    "    folium.PolyLine(locations=gps_coordinates, color='blue').add_to(gmap)\n",
    "\n",
    "    # Add smaller markers for each GPS coordinate\n",
    "    for index, (lat, lon) in enumerate(gps_coordinates):\n",
    "        folium.CircleMarker(location=(lat, lon), radius=0.0001, color='blue', fill=False).add_to(gmap)\n",
    "\n",
    "    # Save the map to an HTML file\n",
    "    gmap.save(output_file)\n",
    "\n",
    "if __name__ == \"__main__\":\n",
    "    #gps_coordinates = [(latitude1, longitude1), (latitude2, longitude2), ...]  # Replace with your actual GPS coordinates\n",
    "    output_file = 'gps_trajectory_map.html'\n",
    "\n",
    "    # Plot GPS coordinates on a satellite view map with real satellite imagery\n",
    "    plot_gps_coordinates(gps_coordinates, output_file)"
   ]
  },
  {
   "cell_type": "code",
   "execution_count": 27,
   "metadata": {},
   "outputs": [],
   "source": [
    "def plot_gps_coordinates_static(gps_coordinates, output_file):\n",
    "    # Create a folium map centered at the first GPS coordinate\n",
    "    gmap = folium.Map(location=gps_coordinates[0])\n",
    "\n",
    "    # Add a polyline for the position trajectory\n",
    "    folium.PolyLine(locations=gps_coordinates, color='blue').add_to(gmap)\n",
    "\n",
    "    # Add markers for each GPS coordinate\n",
    "    for index, (lat, lon) in enumerate(gps_coordinates):\n",
    "        folium.CircleMarker(location=(lat, lon), radius=15, color='blue', fill=True).add_to(gmap)\n",
    "\n",
    "    # Save the map to an HTML file\n",
    "    gmap.save(output_file)\n",
    "\n",
    "if __name__ == \"__main__\":\n",
    "    #gps_coordinates = [(latitude1, longitude1), (latitude2, longitude2), ...]  # Replace with your actual GPS coordinates\n",
    "    output_file = 'gps_trajectory_static_map.html'\n",
    "\n",
    "    # Plot GPS coordinates on a static map and save as HTML\n",
    "    plot_gps_coordinates_static(gps_coordinates, output_file)"
   ]
  },
  {
   "cell_type": "code",
   "execution_count": null,
   "metadata": {},
   "outputs": [],
   "source": []
  }
 ],
 "metadata": {
  "kernelspec": {
   "display_name": "Python 3",
   "language": "python",
   "name": "python3"
  },
  "language_info": {
   "codemirror_mode": {
    "name": "ipython",
    "version": 3
   },
   "file_extension": ".py",
   "mimetype": "text/x-python",
   "name": "python",
   "nbconvert_exporter": "python",
   "pygments_lexer": "ipython3",
   "version": "3.10.6"
  },
  "orig_nbformat": 4
 },
 "nbformat": 4,
 "nbformat_minor": 2
}
